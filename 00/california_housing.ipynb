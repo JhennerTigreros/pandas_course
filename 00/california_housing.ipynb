{
 "cells": [
  {
   "cell_type": "code",
   "execution_count": null,
   "metadata": {},
   "outputs": [],
   "source": [
    "%matplotlib inline\n",
    "import pandas as pd\n",
    "import numpy as np\n",
    "import os\n",
    "import matplotlib.pyplot as plt\n",
    "import math\n",
    "import scipy\n",
    "import seaborn as sns\n",
    "import folium"
   ]
  },
  {
   "cell_type": "markdown",
   "metadata": {},
   "source": [
    "# Introducción a Pandas"
   ]
  },
  {
   "cell_type": "markdown",
   "metadata": {},
   "source": [
    "En pandas los datos estan segmentados en una estructura de Datos nueva y optimizada para carga de datos llamados DataFrames, que son basicamente tablas como las de una base de datos. Estas se dividen en tres componentes fundamentales:\n",
    "\n",
    "    - Indices.\n",
    "    - Columnas.\n",
    "    - Datos.\n",
    "    \n",
    "Cada DataFrame esta dividido por columnas que puede ser representada como una serie de Pandas. Estas series son una estructura de 1 dimensión.\n",
    "    \n",
    "    - Indices.\n",
    "    - Datos"
   ]
  },
  {
   "cell_type": "code",
   "execution_count": null,
   "metadata": {},
   "outputs": [],
   "source": [
    "tmp_data = [[1, 3, 4, 5]]\n",
    "carros = pd.DataFrame(\n",
    "            tmp_data, columns = [ \n",
    "                'BWM', \n",
    "                'FERRARI', \n",
    "                'MASERATI', \n",
    "                'CHEVROLET'\n",
    "            ]\n",
    "        )\n",
    "print(carros)"
   ]
  },
  {
   "cell_type": "code",
   "execution_count": null,
   "metadata": {},
   "outputs": [],
   "source": [
    "index = ['Ventas 2019', 'Ventas 2020']\n",
    "columns = ['BMW', 'FERRARI', \"MASERATTI\", \"CHEVROLET\"]\n",
    "tmp_data = [[1, 3, 4, 5], [3, 5, 34, 4]]\n",
    "carros_ventas = pd.DataFrame(tmp_data, columns = columns, index = index)\n",
    "carros_ventas"
   ]
  },
  {
   "cell_type": "code",
   "execution_count": null,
   "metadata": {},
   "outputs": [],
   "source": [
    "bmw_serie = pd.Series(carros_ventas['BMW'])\n",
    "bmw_serie"
   ]
  },
  {
   "cell_type": "code",
   "execution_count": null,
   "metadata": {},
   "outputs": [],
   "source": [
    "index = ['Lapices', 'Cuadernos', 'Laptop']\n",
    "datos = ['3 Lapices', '5 Cuadernos', '3 Macbook']\n",
    "\n",
    "bolsa = pd.Series(datos, index = index, name = 'Bolsa')\n",
    "\n",
    "bolsa"
   ]
  },
  {
   "cell_type": "markdown",
   "metadata": {},
   "source": [
    "# Pandas Basics"
   ]
  },
  {
   "cell_type": "markdown",
   "metadata": {},
   "source": [
    "Pandas nos permite cargar información desde diferentes tipos de archivos, como lo pueden ser archivos CSV o TXT. Solo debemos especificar el caracter de separación que contiene este archivo, el por default es \",\" ya que es el estandar en archivos de tipo CSV."
   ]
  },
  {
   "cell_type": "code",
   "execution_count": null,
   "metadata": {},
   "outputs": [],
   "source": [
    "housing = pd.read_csv('sample_datahousing.csv', index_col = [0, 1], skiprows = 0)\n",
    "\n",
    "print(housing.loc[(-122.23, 37.88)])\n",
    "print(housing.loc[(-122.23, 37.88), 'total_rooms'])\n",
    "print(housing.info())"
   ]
  },
  {
   "cell_type": "code",
   "execution_count": null,
   "metadata": {},
   "outputs": [],
   "source": [
    "housing = pd.read_csv('sample_datahousing.csv', index_col = None, skiprows = 0)\n",
    "housing.boxplot()"
   ]
  },
  {
   "cell_type": "code",
   "execution_count": null,
   "metadata": {},
   "outputs": [],
   "source": [
    "housing.plot.scatter(x = 'housing_median_age', y = 'total_rooms')"
   ]
  },
  {
   "cell_type": "code",
   "execution_count": null,
   "metadata": {},
   "outputs": [],
   "source": [
    "from pandas.plotting import scatter_matrix"
   ]
  },
  {
   "cell_type": "code",
   "execution_count": null,
   "metadata": {},
   "outputs": [],
   "source": [
    "scatter_matrix(housing.reset_index(), diagonal = 'kde', figsize = (7, 7))"
   ]
  },
  {
   "cell_type": "code",
   "execution_count": null,
   "metadata": {},
   "outputs": [],
   "source": [
    "print(housing.total_rooms)"
   ]
  },
  {
   "cell_type": "markdown",
   "metadata": {},
   "source": [
    "Pandas nos permite acceder de diferentes formas a los datos que cargamos con anterioridad, esto haciendo uso de los metodos iloc y loc.\n",
    "\n",
    "iloc nos permite acceder a los valores haciendo uso de indices para demarcar las posiciones que deseamos obtener:"
   ]
  },
  {
   "cell_type": "code",
   "execution_count": null,
   "metadata": {},
   "outputs": [],
   "source": [
    "sample = housing.iloc[[1,2,3,4,5,6,7]]\n",
    "print(sample)"
   ]
  },
  {
   "cell_type": "markdown",
   "metadata": {},
   "source": [
    "loc nos permite acceder a los valores deseados haciendo uso del nombre propio de la columna y el indice:"
   ]
  },
  {
   "cell_type": "code",
   "execution_count": null,
   "metadata": {},
   "outputs": [],
   "source": [
    "housing.loc[(housing.total_bedrooms > 100) & (housing.total_bedrooms < 1500)]\n",
    "housing.loc[housing['median_income'] > 3, 'median_income']"
   ]
  },
  {
   "cell_type": "markdown",
   "metadata": {},
   "source": [
    "# Funciones en pandas"
   ]
  },
  {
   "cell_type": "markdown",
   "metadata": {},
   "source": [
    "Pandas posee una gran variedad de funciones en su core, las cuales nos permiten calcular diferentes valores esenciales a la hora de realizar un analisis de datos."
   ]
  },
  {
   "cell_type": "code",
   "execution_count": null,
   "metadata": {},
   "outputs": [],
   "source": [
    "housing.median(axis = 0)"
   ]
  },
  {
   "cell_type": "code",
   "execution_count": null,
   "metadata": {},
   "outputs": [],
   "source": [
    "housing['total_rooms'].median()"
   ]
  },
  {
   "cell_type": "code",
   "execution_count": null,
   "metadata": {},
   "outputs": [],
   "source": [
    "housing['housing_median_age'].unique()"
   ]
  },
  {
   "cell_type": "code",
   "execution_count": null,
   "metadata": {},
   "outputs": [],
   "source": [
    "housing['housing_median_age'].value_counts()"
   ]
  },
  {
   "cell_type": "code",
   "execution_count": null,
   "metadata": {},
   "outputs": [],
   "source": [
    "center_data = (housing.total_bedrooms - housing.total_bedrooms.mean()).to_numpy()"
   ]
  },
  {
   "cell_type": "code",
   "execution_count": null,
   "metadata": {},
   "outputs": [],
   "source": [
    "normal_data = housing.total_bedrooms.to_numpy()"
   ]
  },
  {
   "cell_type": "code",
   "execution_count": null,
   "metadata": {},
   "outputs": [],
   "source": [
    "plt.plot(normal_data, 'k')\n",
    "plt.plot(center_data, 'r+')\n",
    "plt.show()"
   ]
  },
  {
   "cell_type": "code",
   "execution_count": null,
   "metadata": {},
   "outputs": [],
   "source": [
    "housing.loc[housing.total_bedrooms.idxmax()]"
   ]
  },
  {
   "cell_type": "code",
   "execution_count": null,
   "metadata": {},
   "outputs": [],
   "source": [
    "housing.median_income.map(lambda x: np.sqrt(x)).head()"
   ]
  },
  {
   "cell_type": "code",
   "execution_count": null,
   "metadata": {},
   "outputs": [],
   "source": [
    "housing.median_income.head()"
   ]
  },
  {
   "cell_type": "code",
   "execution_count": null,
   "metadata": {},
   "outputs": [],
   "source": [
    "tmp_housing_median_age_group = housing.groupby('housing_median_age')"
   ]
  },
  {
   "cell_type": "code",
   "execution_count": null,
   "metadata": {},
   "outputs": [],
   "source": [
    "tmp_housing_median_age_group.households.sum().head()"
   ]
  },
  {
   "cell_type": "code",
   "execution_count": null,
   "metadata": {},
   "outputs": [],
   "source": [
    "tmp_housing_median_age_group.apply(lambda df: df.total_rooms.iloc[0])"
   ]
  },
  {
   "cell_type": "code",
   "execution_count": null,
   "metadata": {},
   "outputs": [],
   "source": [
    "tmp_housing_median_age_group.households.agg(['count', 'sum', 'min', 'max']).head()"
   ]
  },
  {
   "cell_type": "code",
   "execution_count": null,
   "metadata": {},
   "outputs": [],
   "source": [
    "housing.sort_values(by = 'housing_median_age').head()"
   ]
  },
  {
   "cell_type": "code",
   "execution_count": null,
   "metadata": {},
   "outputs": [],
   "source": [
    "housing.sort_values(by = 'housing_median_age', ascending = False).head()"
   ]
  },
  {
   "cell_type": "code",
   "execution_count": null,
   "metadata": {},
   "outputs": [],
   "source": [
    "housing.sort_index().head()"
   ]
  },
  {
   "cell_type": "code",
   "execution_count": null,
   "metadata": {},
   "outputs": [],
   "source": [
    "housing.sort_values(by = ['housing_median_age', 'total_rooms']).head()"
   ]
  },
  {
   "cell_type": "code",
   "execution_count": null,
   "metadata": {},
   "outputs": [],
   "source": [
    "housing.groupby('housing_median_age').size()"
   ]
  },
  {
   "cell_type": "code",
   "execution_count": null,
   "metadata": {},
   "outputs": [],
   "source": [
    "housing.housing_median_age = housing.housing_median_age.astype('int32')"
   ]
  },
  {
   "cell_type": "code",
   "execution_count": null,
   "metadata": {},
   "outputs": [],
   "source": [
    "housing.housing_median_age"
   ]
  },
  {
   "cell_type": "code",
   "execution_count": null,
   "metadata": {},
   "outputs": [],
   "source": [
    "housing.info()"
   ]
  },
  {
   "cell_type": "code",
   "execution_count": null,
   "metadata": {},
   "outputs": [],
   "source": [
    "housing.total_rooms.fillna(0)"
   ]
  },
  {
   "cell_type": "code",
   "execution_count": null,
   "metadata": {},
   "outputs": [],
   "source": [
    "housing.total_rooms.replace('unknown', 'someValue')"
   ]
  },
  {
   "cell_type": "code",
   "execution_count": null,
   "metadata": {},
   "outputs": [],
   "source": [
    "housing.rename(columns = {'housing_median_age': 'hma'})"
   ]
  },
  {
   "cell_type": "code",
   "execution_count": null,
   "metadata": {},
   "outputs": [],
   "source": [
    "housing.rename(index = {'longitude': 'long'})"
   ]
  },
  {
   "cell_type": "code",
   "execution_count": null,
   "metadata": {},
   "outputs": [],
   "source": [
    "housing.join(housing, lsuffix = '_left', rsuffix = '_rigth').head()"
   ]
  },
  {
   "cell_type": "markdown",
   "metadata": {},
   "source": [
    "# Conexión a Base de Datos."
   ]
  },
  {
   "cell_type": "markdown",
   "metadata": {},
   "source": [
    "Un gran poder en Pandas es la capacidad de poder conectarnos a bases de datos. Esto se puede realizar con diferentes plugins de conexión en python y utilizando el metodo pd.read_sql() al que le debemos pasar el query que queremos ejecutar y la cadena de conexión."
   ]
  },
  {
   "cell_type": "code",
   "execution_count": null,
   "metadata": {},
   "outputs": [],
   "source": [
    "import psycopg2"
   ]
  },
  {
   "cell_type": "code",
   "execution_count": null,
   "metadata": {},
   "outputs": [],
   "source": [
    "sql_connection = psycopg2.connect(user = 'elia',\n",
    "                                  password = 'elia_pandas_20201008',\n",
    "                                  host = 'xxx.xxx.xxx.xxx',\n",
    "                                  port = '5432'\n",
    "                                  database = \"elia\")\n",
    "\n",
    "sql_query = '''\n",
    "    select *\n",
    "    from housing\n",
    "    limit 10\n",
    "'''\n",
    "\n",
    "df = pd.read_sql(sql_query, sql_conn)\n",
    "df.head(5)"
   ]
  },
  {
   "cell_type": "markdown",
   "metadata": {},
   "source": [
    "# Data ... Science "
   ]
  },
  {
   "cell_type": "code",
   "execution_count": null,
   "metadata": {},
   "outputs": [],
   "source": [
    "housing = pd.read_csv('sample_datahousing.csv', index_col = None, skiprows = 0)\n",
    "\n",
    "plt.figure(figsize = (20, 12))\n",
    "housing['ocean_proximity'].value_counts().plot(\n",
    "    kind = 'bar', \n",
    "    edgecolor = 'b', \n",
    "    alpha = 0.8\n",
    ")\n",
    "\n",
    "for index, value in enumerate(housing['ocean_proximity'].value_counts()):\n",
    "    plt.text(index, value, str(value))\n",
    "    \n",
    "plt.xlabel('Area', fontsize = 15)\n",
    "plt.ylabel('Houses', fontsize = 13)\n",
    "plt.xticks(rotation = 0)\n",
    "plt.title('Houses in the state of California', fontsize = 15)\n",
    "plt.show()"
   ]
  },
  {
   "cell_type": "code",
   "execution_count": null,
   "metadata": {},
   "outputs": [],
   "source": [
    "plt.figure(figsize = (16, 7))\n",
    "\n",
    "housing['median_house_value'].hist(bins = 100)\n",
    "\n",
    "plt.xlabel('Median House Value', fontsize = 14)\n",
    "plt.ylabel('Houses', fontsize = 15)\n",
    "plt.xticks(rotation = 0)\n",
    "plt.title(\"Median House Value\", fontsize = 17)\n",
    "plt.show()"
   ]
  },
  {
   "cell_type": "code",
   "execution_count": null,
   "metadata": {},
   "outputs": [],
   "source": [
    "plt.figure(figsize = (20, 4))\n",
    "sns.set_color_codes(palette = 'bright')\n",
    "sns.distplot(housing['median_house_value'], color = 'r')\n",
    "plt.title('Median House Value in California')\n",
    "plt.xlabel('Median House Value', fontsize = 15)\n",
    "plt.ylabel('Houses', fontsize = 13)\n",
    "plt.show()"
   ]
  },
  {
   "cell_type": "code",
   "execution_count": null,
   "metadata": {},
   "outputs": [],
   "source": [
    "plt.figure(figsize=(12,8))\n",
    "sns.jointplot(x=housing.latitude.values,y=housing.longitude.values,height=10, alpha=0.5)\n",
    "plt.ylabel(\"longitude\")\n",
    "plt.xlabel(\"latitude\")\n",
    "plt.show()"
   ]
  },
  {
   "cell_type": "code",
   "execution_count": null,
   "metadata": {},
   "outputs": [],
   "source": [
    "maps = folium.Map(location = [37.166773, -120.436393], tiles = 'OpenStreetMap', zoom_start = 6)\n",
    "\n",
    "for idx in range(0, len(housing)):\n",
    "    folium.Circle(\n",
    "        [housing.iloc[idx]['latitude'], housing.iloc[idx]['longitude']],\n",
    "        popup = housing.iloc[idx]['ocean_proximity'], \n",
    "        radius = 10\n",
    "    ).add_to(maps)\n",
    "\n",
    "maps"
   ]
  },
  {
   "cell_type": "code",
   "execution_count": null,
   "metadata": {},
   "outputs": [],
   "source": [
    "maps_heat = folium.Map(location = [36.7783, -119.4179], zoom_start = 6, min_zoom = 5)\n",
    "\n",
    "housing_maps = housing[['latitude', 'longitude']]\n",
    "\n",
    "data = [[row['latitude'], row['longitude']] for idx, row in housing_maps.iterrows()]\n",
    "\n",
    "from folium.plugins import HeatMap\n",
    "\n",
    "HeatMap(data, radius = 10).add_to(maps_heat)\n",
    "\n",
    "maps_heat"
   ]
  },
  {
   "cell_type": "code",
   "execution_count": null,
   "metadata": {},
   "outputs": [],
   "source": []
  }
 ],
 "metadata": {
  "kernelspec": {
   "display_name": "Python 3",
   "language": "python",
   "name": "python3"
  },
  "language_info": {
   "codemirror_mode": {
    "name": "ipython",
    "version": 3
   },
   "file_extension": ".py",
   "mimetype": "text/x-python",
   "name": "python",
   "nbconvert_exporter": "python",
   "pygments_lexer": "ipython3",
   "version": "3.6.9"
  }
 },
 "nbformat": 4,
 "nbformat_minor": 4
}
